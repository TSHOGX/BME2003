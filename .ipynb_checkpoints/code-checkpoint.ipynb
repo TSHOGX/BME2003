{
 "cells": [
  {
   "cell_type": "markdown",
   "metadata": {
    "_uuid": "f4a0efbdf4c6615b9957cef02d7b6bbfd6c2337b"
   },
   "source": [
    "# Blind Taste Wine\n"
   ]
  },
  {
   "cell_type": "markdown",
   "metadata": {
    "_uuid": "bba184f96813cb3c9cf9e76f5641fdddb8c30ee7"
   },
   "source": [
    "## 1. Import"
   ]
  },
  {
   "cell_type": "code",
   "execution_count": 1,
   "metadata": {
    "_cell_guid": "b1076dfc-b9ad-4769-8c92-a6c4dae69d19",
    "_uuid": "8f2839f25d086af736a60e9eeb907d3b93b6e0e5"
   },
   "outputs": [],
   "source": [
    "import os\n",
    "\n",
    "import warnings  \n",
    "warnings.filterwarnings('ignore')\n",
    "\n",
    "import pandas as pd\n",
    "import re\n",
    "import numpy as np\n",
    "import seaborn as sns\n",
    "import matplotlib.pyplot as plt\n",
    "%matplotlib inline\n",
    "\n",
    "from sklearn import metrics\n",
    "from sklearn.linear_model import LogisticRegression\n",
    "from sklearn.feature_extraction.text import TfidfVectorizer, CountVectorizer\n",
    "from sklearn.model_selection import train_test_split, GridSearchCV, cross_val_score, StratifiedKFold\n",
    "from sklearn.pipeline import Pipeline, FeatureUnion\n",
    "from sklearn.preprocessing import FunctionTransformer, StandardScaler\n",
    "from sklearn.base import BaseEstimator, TransformerMixin\n",
    "from sklearn.neighbors import KNeighborsClassifier\n",
    "from sklearn.tree import DecisionTreeClassifier\n",
    "from sklearn.ensemble import RandomForestClassifier, AdaBoostClassifier\n",
    "from sklearn.naive_bayes import MultinomialNB\n",
    "from sklearn.dummy import DummyClassifier\n",
    "from sklearn.cluster import KMeans\n",
    "from xgboost import XGBClassifier\n",
    "from scipy.sparse import hstack\n",
    "\n",
    "# nltk packages\n",
    "# nltk.download('stopwords')\n",
    "# nltk.download('punkt')\n",
    "# nltk.download('averaged_perceptron_tagger')\n",
    "# nltk.download('wordnet')\n",
    "import nltk\n",
    "from nltk import word_tokenize\n",
    "from nltk.stem import WordNetLemmatizer \n",
    "from nltk.corpus import stopwords\n",
    "from string import punctuation\n",
    "import unidecode"
   ]
  },
  {
   "cell_type": "code",
   "execution_count": 2,
   "metadata": {
    "_cell_guid": "79c7e3d0-c299-4dcb-8224-4455121ee9b0",
    "_uuid": "d629ff2d2480ee46fbb7e2d37f6b5fab8052498a",
    "scrolled": true
   },
   "outputs": [
    {
     "data": {
      "text/html": [
       "<div>\n",
       "<style scoped>\n",
       "    .dataframe tbody tr th:only-of-type {\n",
       "        vertical-align: middle;\n",
       "    }\n",
       "\n",
       "    .dataframe tbody tr th {\n",
       "        vertical-align: top;\n",
       "    }\n",
       "\n",
       "    .dataframe thead th {\n",
       "        text-align: right;\n",
       "    }\n",
       "</style>\n",
       "<table border=\"1\" class=\"dataframe\">\n",
       "  <thead>\n",
       "    <tr style=\"text-align: right;\">\n",
       "      <th></th>\n",
       "      <th>Unnamed: 0</th>\n",
       "      <th>country</th>\n",
       "      <th>description</th>\n",
       "      <th>designation</th>\n",
       "      <th>points</th>\n",
       "      <th>price</th>\n",
       "      <th>province</th>\n",
       "      <th>region_1</th>\n",
       "      <th>region_2</th>\n",
       "      <th>variety</th>\n",
       "      <th>winery</th>\n",
       "    </tr>\n",
       "  </thead>\n",
       "  <tbody>\n",
       "    <tr>\n",
       "      <th>0</th>\n",
       "      <td>0</td>\n",
       "      <td>US</td>\n",
       "      <td>This tremendous 100% varietal wine hails from ...</td>\n",
       "      <td>Martha's Vineyard</td>\n",
       "      <td>96</td>\n",
       "      <td>235.0</td>\n",
       "      <td>California</td>\n",
       "      <td>Napa Valley</td>\n",
       "      <td>Napa</td>\n",
       "      <td>Cabernet Sauvignon</td>\n",
       "      <td>Heitz</td>\n",
       "    </tr>\n",
       "    <tr>\n",
       "      <th>1</th>\n",
       "      <td>1</td>\n",
       "      <td>Spain</td>\n",
       "      <td>Ripe aromas of fig, blackberry and cassis are ...</td>\n",
       "      <td>Carodorum Selección Especial Reserva</td>\n",
       "      <td>96</td>\n",
       "      <td>110.0</td>\n",
       "      <td>Northern Spain</td>\n",
       "      <td>Toro</td>\n",
       "      <td>NaN</td>\n",
       "      <td>Tinta de Toro</td>\n",
       "      <td>Bodega Carmen Rodríguez</td>\n",
       "    </tr>\n",
       "    <tr>\n",
       "      <th>2</th>\n",
       "      <td>2</td>\n",
       "      <td>US</td>\n",
       "      <td>Mac Watson honors the memory of a wine once ma...</td>\n",
       "      <td>Special Selected Late Harvest</td>\n",
       "      <td>96</td>\n",
       "      <td>90.0</td>\n",
       "      <td>California</td>\n",
       "      <td>Knights Valley</td>\n",
       "      <td>Sonoma</td>\n",
       "      <td>Sauvignon Blanc</td>\n",
       "      <td>Macauley</td>\n",
       "    </tr>\n",
       "    <tr>\n",
       "      <th>3</th>\n",
       "      <td>3</td>\n",
       "      <td>US</td>\n",
       "      <td>This spent 20 months in 30% new French oak, an...</td>\n",
       "      <td>Reserve</td>\n",
       "      <td>96</td>\n",
       "      <td>65.0</td>\n",
       "      <td>Oregon</td>\n",
       "      <td>Willamette Valley</td>\n",
       "      <td>Willamette Valley</td>\n",
       "      <td>Pinot Noir</td>\n",
       "      <td>Ponzi</td>\n",
       "    </tr>\n",
       "    <tr>\n",
       "      <th>4</th>\n",
       "      <td>4</td>\n",
       "      <td>France</td>\n",
       "      <td>This is the top wine from La Bégude, named aft...</td>\n",
       "      <td>La Brûlade</td>\n",
       "      <td>95</td>\n",
       "      <td>66.0</td>\n",
       "      <td>Provence</td>\n",
       "      <td>Bandol</td>\n",
       "      <td>NaN</td>\n",
       "      <td>Provence red blend</td>\n",
       "      <td>Domaine de la Bégude</td>\n",
       "    </tr>\n",
       "  </tbody>\n",
       "</table>\n",
       "</div>"
      ],
      "text/plain": [
       "   Unnamed: 0 country                                        description  \\\n",
       "0           0      US  This tremendous 100% varietal wine hails from ...   \n",
       "1           1   Spain  Ripe aromas of fig, blackberry and cassis are ...   \n",
       "2           2      US  Mac Watson honors the memory of a wine once ma...   \n",
       "3           3      US  This spent 20 months in 30% new French oak, an...   \n",
       "4           4  France  This is the top wine from La Bégude, named aft...   \n",
       "\n",
       "                            designation  points  price        province  \\\n",
       "0                     Martha's Vineyard      96  235.0      California   \n",
       "1  Carodorum Selección Especial Reserva      96  110.0  Northern Spain   \n",
       "2         Special Selected Late Harvest      96   90.0      California   \n",
       "3                               Reserve      96   65.0          Oregon   \n",
       "4                            La Brûlade      95   66.0        Provence   \n",
       "\n",
       "            region_1           region_2             variety  \\\n",
       "0        Napa Valley               Napa  Cabernet Sauvignon   \n",
       "1               Toro                NaN       Tinta de Toro   \n",
       "2     Knights Valley             Sonoma     Sauvignon Blanc   \n",
       "3  Willamette Valley  Willamette Valley          Pinot Noir   \n",
       "4             Bandol                NaN  Provence red blend   \n",
       "\n",
       "                    winery  \n",
       "0                    Heitz  \n",
       "1  Bodega Carmen Rodríguez  \n",
       "2                 Macauley  \n",
       "3                    Ponzi  \n",
       "4     Domaine de la Bégude  "
      ]
     },
     "execution_count": 2,
     "metadata": {},
     "output_type": "execute_result"
    }
   ],
   "source": [
    "data = pd.read_csv('./input/winemag-data_first150k.csv')\n",
    "data.head()"
   ]
  },
  {
   "cell_type": "markdown",
   "metadata": {
    "_uuid": "ee9057acf9b0eef9c46494c93f5d9bfd417f5503"
   },
   "source": [
    "## 2. Preprocessing"
   ]
  },
  {
   "cell_type": "markdown",
   "metadata": {},
   "source": [
    "### 2.1 Drop useless features"
   ]
  },
  {
   "cell_type": "code",
   "execution_count": 3,
   "metadata": {
    "_uuid": "14f2197aea24bdd5966370b3e68876566f23ee45"
   },
   "outputs": [],
   "source": [
    "data_sel = data.drop(['Unnamed: 0','designation','points','region_2',], axis = 1)"
   ]
  },
  {
   "cell_type": "code",
   "execution_count": 4,
   "metadata": {
    "_uuid": "e24467ddb21e8f368161577bf45cd2967aa770cf"
   },
   "outputs": [
    {
     "data": {
      "text/plain": [
       "(150930, 7)"
      ]
     },
     "execution_count": 4,
     "metadata": {},
     "output_type": "execute_result"
    }
   ],
   "source": [
    "data_sel.shape"
   ]
  },
  {
   "cell_type": "markdown",
   "metadata": {
    "_uuid": "7bfa27c362e6c009f38401362b298effcdcba0bd"
   },
   "source": [
    "### 2.2 Remove duplicates, NAs\n",
    "We do not want any duplication in the description column since that might falsely over emphasize certain features. Therefore, we start by dropping any description duplicates."
   ]
  },
  {
   "cell_type": "code",
   "execution_count": 5,
   "metadata": {
    "_uuid": "c8d2718b5ff0b9f6539b43b509e7971cbd30cf13"
   },
   "outputs": [
    {
     "data": {
      "text/html": [
       "<div>\n",
       "<style scoped>\n",
       "    .dataframe tbody tr th:only-of-type {\n",
       "        vertical-align: middle;\n",
       "    }\n",
       "\n",
       "    .dataframe tbody tr th {\n",
       "        vertical-align: top;\n",
       "    }\n",
       "\n",
       "    .dataframe thead th {\n",
       "        text-align: right;\n",
       "    }\n",
       "</style>\n",
       "<table border=\"1\" class=\"dataframe\">\n",
       "  <thead>\n",
       "    <tr style=\"text-align: right;\">\n",
       "      <th></th>\n",
       "      <th>country</th>\n",
       "      <th>description</th>\n",
       "      <th>price</th>\n",
       "      <th>province</th>\n",
       "      <th>region_1</th>\n",
       "      <th>variety</th>\n",
       "      <th>winery</th>\n",
       "    </tr>\n",
       "  </thead>\n",
       "  <tbody>\n",
       "    <tr>\n",
       "      <th>96052</th>\n",
       "      <td>Austria</td>\n",
       "      <td>\"Chremisa,\" the ancient name of Krems, is comm...</td>\n",
       "      <td>24.0</td>\n",
       "      <td>Niederösterreich</td>\n",
       "      <td>NaN</td>\n",
       "      <td>Grüner Veltliner</td>\n",
       "      <td>Winzer Krems</td>\n",
       "    </tr>\n",
       "    <tr>\n",
       "      <th>77587</th>\n",
       "      <td>Portugal</td>\n",
       "      <td>\"New moon on old vines” is the name of this po...</td>\n",
       "      <td>15.0</td>\n",
       "      <td>Douro</td>\n",
       "      <td>NaN</td>\n",
       "      <td>Portuguese Red</td>\n",
       "      <td>Wines &amp; Winemakers</td>\n",
       "    </tr>\n",
       "    <tr>\n",
       "      <th>83019</th>\n",
       "      <td>US</td>\n",
       "      <td>$10 for this very drinkable Cab? That's crazy....</td>\n",
       "      <td>10.0</td>\n",
       "      <td>California</td>\n",
       "      <td>North Coast</td>\n",
       "      <td>Cabernet Sauvignon</td>\n",
       "      <td>Line 39</td>\n",
       "    </tr>\n",
       "    <tr>\n",
       "      <th>32824</th>\n",
       "      <td>US</td>\n",
       "      <td>$14 is a pretty good price for a Chardonnay th...</td>\n",
       "      <td>14.0</td>\n",
       "      <td>California</td>\n",
       "      <td>California</td>\n",
       "      <td>Chardonnay</td>\n",
       "      <td>Jamieson Ranch</td>\n",
       "    </tr>\n",
       "    <tr>\n",
       "      <th>39937</th>\n",
       "      <td>US</td>\n",
       "      <td>). Certainly not lacking in richness. Shows a ...</td>\n",
       "      <td>42.0</td>\n",
       "      <td>California</td>\n",
       "      <td>Sonoma Coast</td>\n",
       "      <td>Syrah</td>\n",
       "      <td>Keller Estate</td>\n",
       "    </tr>\n",
       "  </tbody>\n",
       "</table>\n",
       "</div>"
      ],
      "text/plain": [
       "        country                                        description  price  \\\n",
       "96052   Austria  \"Chremisa,\" the ancient name of Krems, is comm...   24.0   \n",
       "77587  Portugal  \"New moon on old vines” is the name of this po...   15.0   \n",
       "83019        US  $10 for this very drinkable Cab? That's crazy....   10.0   \n",
       "32824        US  $14 is a pretty good price for a Chardonnay th...   14.0   \n",
       "39937        US  ). Certainly not lacking in richness. Shows a ...   42.0   \n",
       "\n",
       "               province      region_1             variety              winery  \n",
       "96052  Niederösterreich           NaN    Grüner Veltliner        Winzer Krems  \n",
       "77587             Douro           NaN      Portuguese Red  Wines & Winemakers  \n",
       "83019        California   North Coast  Cabernet Sauvignon             Line 39  \n",
       "32824        California    California          Chardonnay      Jamieson Ranch  \n",
       "39937        California  Sonoma Coast               Syrah       Keller Estate  "
      ]
     },
     "execution_count": 5,
     "metadata": {},
     "output_type": "execute_result"
    }
   ],
   "source": [
    "#data_single = data_sel.drop_duplicates('description')\n",
    "data_single = data_sel.drop_duplicates('description',keep=False)\n",
    "data_single.sort_values('description').head(5)"
   ]
  },
  {
   "cell_type": "code",
   "execution_count": 6,
   "metadata": {
    "_uuid": "31340a9ceb1074e508e8d72c0d2aaa0be01b9f76"
   },
   "outputs": [
    {
     "data": {
      "text/plain": [
       "(58537, 7)"
      ]
     },
     "execution_count": 6,
     "metadata": {},
     "output_type": "execute_result"
    }
   ],
   "source": [
    "data_single.shape"
   ]
  },
  {
   "cell_type": "code",
   "execution_count": 7,
   "metadata": {
    "_uuid": "a3f03c2c0a8bca5a818fa088dd6e5ad3c5f6363c"
   },
   "outputs": [],
   "source": [
    "data_single = data_single.dropna()"
   ]
  },
  {
   "cell_type": "code",
   "execution_count": 8,
   "metadata": {
    "_uuid": "520d572d001438f6b31c4b76aa66ef89e527f729"
   },
   "outputs": [
    {
     "data": {
      "text/html": [
       "<div>\n",
       "<style scoped>\n",
       "    .dataframe tbody tr th:only-of-type {\n",
       "        vertical-align: middle;\n",
       "    }\n",
       "\n",
       "    .dataframe tbody tr th {\n",
       "        vertical-align: top;\n",
       "    }\n",
       "\n",
       "    .dataframe thead th {\n",
       "        text-align: right;\n",
       "    }\n",
       "</style>\n",
       "<table border=\"1\" class=\"dataframe\">\n",
       "  <thead>\n",
       "    <tr style=\"text-align: right;\">\n",
       "      <th></th>\n",
       "      <th>country</th>\n",
       "      <th>description</th>\n",
       "      <th>price</th>\n",
       "      <th>province</th>\n",
       "      <th>region_1</th>\n",
       "      <th>variety</th>\n",
       "      <th>winery</th>\n",
       "    </tr>\n",
       "  </thead>\n",
       "  <tbody>\n",
       "    <tr>\n",
       "      <th>0</th>\n",
       "      <td>US</td>\n",
       "      <td>This tremendous 100% varietal wine hails from ...</td>\n",
       "      <td>235.0</td>\n",
       "      <td>California</td>\n",
       "      <td>Napa Valley</td>\n",
       "      <td>Cabernet Sauvignon</td>\n",
       "      <td>Heitz</td>\n",
       "    </tr>\n",
       "    <tr>\n",
       "      <th>1</th>\n",
       "      <td>Spain</td>\n",
       "      <td>Ripe aromas of fig, blackberry and cassis are ...</td>\n",
       "      <td>110.0</td>\n",
       "      <td>Northern Spain</td>\n",
       "      <td>Toro</td>\n",
       "      <td>Tinta de Toro</td>\n",
       "      <td>Bodega Carmen Rodríguez</td>\n",
       "    </tr>\n",
       "    <tr>\n",
       "      <th>2</th>\n",
       "      <td>US</td>\n",
       "      <td>Mac Watson honors the memory of a wine once ma...</td>\n",
       "      <td>90.0</td>\n",
       "      <td>California</td>\n",
       "      <td>Knights Valley</td>\n",
       "      <td>Sauvignon Blanc</td>\n",
       "      <td>Macauley</td>\n",
       "    </tr>\n",
       "    <tr>\n",
       "      <th>3</th>\n",
       "      <td>US</td>\n",
       "      <td>This spent 20 months in 30% new French oak, an...</td>\n",
       "      <td>65.0</td>\n",
       "      <td>Oregon</td>\n",
       "      <td>Willamette Valley</td>\n",
       "      <td>Pinot Noir</td>\n",
       "      <td>Ponzi</td>\n",
       "    </tr>\n",
       "    <tr>\n",
       "      <th>4</th>\n",
       "      <td>France</td>\n",
       "      <td>This is the top wine from La Bégude, named aft...</td>\n",
       "      <td>66.0</td>\n",
       "      <td>Provence</td>\n",
       "      <td>Bandol</td>\n",
       "      <td>Provence red blend</td>\n",
       "      <td>Domaine de la Bégude</td>\n",
       "    </tr>\n",
       "  </tbody>\n",
       "</table>\n",
       "</div>"
      ],
      "text/plain": [
       "  country                                        description  price  \\\n",
       "0      US  This tremendous 100% varietal wine hails from ...  235.0   \n",
       "1   Spain  Ripe aromas of fig, blackberry and cassis are ...  110.0   \n",
       "2      US  Mac Watson honors the memory of a wine once ma...   90.0   \n",
       "3      US  This spent 20 months in 30% new French oak, an...   65.0   \n",
       "4  France  This is the top wine from La Bégude, named aft...   66.0   \n",
       "\n",
       "         province           region_1             variety  \\\n",
       "0      California        Napa Valley  Cabernet Sauvignon   \n",
       "1  Northern Spain               Toro       Tinta de Toro   \n",
       "2      California     Knights Valley     Sauvignon Blanc   \n",
       "3          Oregon  Willamette Valley          Pinot Noir   \n",
       "4        Provence             Bandol  Provence red blend   \n",
       "\n",
       "                    winery  \n",
       "0                    Heitz  \n",
       "1  Bodega Carmen Rodríguez  \n",
       "2                 Macauley  \n",
       "3                    Ponzi  \n",
       "4     Domaine de la Bégude  "
      ]
     },
     "execution_count": 8,
     "metadata": {},
     "output_type": "execute_result"
    }
   ],
   "source": [
    "data_single.head()"
   ]
  },
  {
   "cell_type": "code",
   "execution_count": 9,
   "metadata": {},
   "outputs": [
    {
     "data": {
      "text/plain": [
       "(44901, 7)"
      ]
     },
     "execution_count": 9,
     "metadata": {},
     "output_type": "execute_result"
    }
   ],
   "source": [
    "data_single.shape"
   ]
  },
  {
   "cell_type": "markdown",
   "metadata": {
    "_uuid": "7dc18ba941cdf7af3d8bd70952a3046d15053e20"
   },
   "source": [
    "### 2.3 Text format ( lower )"
   ]
  },
  {
   "cell_type": "code",
   "execution_count": 10,
   "metadata": {
    "_uuid": "608a4495675961dce02e405eb15da27d5a15c1b1"
   },
   "outputs": [],
   "source": [
    "for col in ['variety', 'description', 'province', 'region_1', 'winery', 'country']:\n",
    "    data_single[col] = data_single[col].str.lower()\n"
   ]
  },
  {
   "cell_type": "code",
   "execution_count": 11,
   "metadata": {
    "_uuid": "65cf7e206f4672b70f58f09ca95ce97c57745901"
   },
   "outputs": [],
   "source": [
    "def unidecode_text(text):\n",
    "    try:\n",
    "        #pdb.set_trace()\n",
    "        text = unidecode.unidecode(text)\n",
    "    except:\n",
    "        pass\n",
    "    return text\n"
   ]
  },
  {
   "cell_type": "code",
   "execution_count": 12,
   "metadata": {
    "_uuid": "ce50cfa4bc12d2b5f2cb01eab11389bed18649a2"
   },
   "outputs": [],
   "source": [
    "for col in ['description', 'variety', 'province', 'winery']:\n",
    "    data_single[col] = data_single.apply(lambda row: unidecode_text(row[col]), axis=1)"
   ]
  },
  {
   "cell_type": "markdown",
   "metadata": {
    "_uuid": "831fb46f9ab2b83f736395badb5c38ba46c91a25"
   },
   "source": [
    "### 2.4 Remove hard targets"
   ]
  },
  {
   "cell_type": "code",
   "execution_count": 13,
   "metadata": {
    "_uuid": "b7c7a67e7275b8b700d16454e57ad891848d6238",
    "scrolled": true
   },
   "outputs": [
    {
     "data": {
      "text/plain": [
       "pinot noir                  4794\n",
       "chardonnay                  4398\n",
       "cabernet sauvignon          4267\n",
       "red blend                   3214\n",
       "bordeaux-style red blend    2152\n",
       "                            ... \n",
       "madeira blend                  1\n",
       "viognier-valdiguie             1\n",
       "groppello                      1\n",
       "macabeo-gewurztraminer         1\n",
       "duras                          1\n",
       "Name: variety, Length: 423, dtype: int64"
      ]
     },
     "execution_count": 13,
     "metadata": {},
     "output_type": "execute_result"
    }
   ],
   "source": [
    "data_single.variety.value_counts()"
   ]
  },
  {
   "cell_type": "markdown",
   "metadata": {
    "_uuid": "ce33f517f594a53bd8274b10f07688c22a5ead88"
   },
   "source": [
    "Remove all blend types."
   ]
  },
  {
   "cell_type": "code",
   "execution_count": 14,
   "metadata": {
    "_uuid": "a0457607841551fb1201e67e85bcbc2b5002f74d"
   },
   "outputs": [],
   "source": [
    "filtered_name = ['red blend', 'portuguese red', 'white blend', 'sparkling blend', 'champagne blend', \n",
    "                 'portuguese white', 'rose', 'bordeaux-style red blend', 'rhone-style red blend',\n",
    "                 'bordeaux-style white blend', 'alsace white blend', 'austrian red blend',\n",
    "                 'austrian white blend', 'cabernet blend', 'malbec blend', 'portuguese rose',\n",
    "                 'portuguese sparkling', 'provence red blend', 'provence white blend',\n",
    "                 'rhone-style white blend', 'tempranillo blend', 'grenache blend',\n",
    "                 'meritage' # beaurdaux blend\n",
    "                ]"
   ]
  },
  {
   "cell_type": "code",
   "execution_count": 15,
   "metadata": {
    "_uuid": "c723405b9c3364e192675d5276411c4fd8029ea2"
   },
   "outputs": [
    {
     "data": {
      "text/plain": [
       "pinot noir            4794\n",
       "chardonnay            4398\n",
       "cabernet sauvignon    4267\n",
       "syrah                 1817\n",
       "merlot                1506\n",
       "                      ... \n",
       "angevine                 1\n",
       "albarossa                1\n",
       "ansonica                 1\n",
       "clairette                1\n",
       "greco bianco             1\n",
       "Name: variety, Length: 406, dtype: int64"
      ]
     },
     "execution_count": 15,
     "metadata": {},
     "output_type": "execute_result"
    }
   ],
   "source": [
    "data_filtered = data_single.copy()\n",
    "data_filtered = data_filtered[~data_filtered['variety'].isin(filtered_name)]\n",
    "data_filtered.variety.value_counts()"
   ]
  },
  {
   "cell_type": "markdown",
   "metadata": {
    "_uuid": "89217c58a982fc1686ec00f7d1348acb82f0f3c3"
   },
   "source": [
    "Unify different words with same meannings."
   ]
  },
  {
   "cell_type": "code",
   "execution_count": 16,
   "metadata": {
    "_uuid": "00b891dece2ff1fddb0201bbc026ff36cec195e8"
   },
   "outputs": [],
   "source": [
    "def correct_grape_names(row):\n",
    "    regexp = [r'shiraz', r'ugni blanc', r'cinsaut', r'carinyena', r'^ribolla$', r'palomino', r'turbiana', r'verdelho', r'viura', r'pinot bianco|weissburgunder', r'garganega|grecanico', r'moscatel', r'moscato', r'melon de bourgogne', r'trajadura|trincadeira', r'cannonau|garnacha', r'grauburgunder|pinot grigio', r'pinot noir|pinot nero', r'colorino', r'mataro|monastrell', r'mourv(\\w+)']\n",
    "    grapename = ['syrah', 'trebbiano', 'cinsault', 'carignan', 'ribolla gialla', 'palomino','verdicchio', 'verdejo','macabeo', 'pinot blanc', 'garganega', 'muscatel', 'muscat', 'muscadet', 'treixadura', 'grenache', 'pinot gris', 'pinot noir', 'lambrusco', 'mourvedre', 'mourvedre']\n",
    "    f = row\n",
    "    for exsearch, gname in zip(regexp, grapename):\n",
    "        f = re.sub(exsearch, gname, f)\n",
    "    return f\n",
    "\n",
    "name_pairs = [('spatburgunder', 'pinot noir'), ('garnacha', 'grenache'), ('pinot nero', 'pinot noir'),\n",
    "              ('alvarinho', 'albarino'), ('assyrtico', 'assyrtiko'), ('black muscat', 'muscat hamburg'),\n",
    "              ('kekfrankos', 'blaufrankisch'), ('garnacha blanca', 'grenache blanc'),\n",
    "              ('garnacha tintorera', 'alicante bouschet'), ('sangiovese grosso', 'sangiovese')\n",
    "             ]"
   ]
  },
  {
   "cell_type": "code",
   "execution_count": 17,
   "metadata": {
    "_uuid": "9c193b969557e1cc904c78cf481378a73fb82794"
   },
   "outputs": [],
   "source": [
    "data_corrected = data_filtered.copy()\n",
    "data_corrected['variety'] = data_corrected['variety'].apply(lambda row: correct_grape_names(row))\n",
    "for start, end in name_pairs:\n",
    "    data_corrected['variety'] = data_corrected['variety'].replace(start, end) \n"
   ]
  },
  {
   "cell_type": "code",
   "execution_count": 18,
   "metadata": {
    "_uuid": "0fabfb00064f981032cd25b3e55aa25bac651ac9"
   },
   "outputs": [
    {
     "data": {
      "text/plain": [
       "pinot noir              4845\n",
       "chardonnay              4398\n",
       "cabernet sauvignon      4267\n",
       "syrah                   2370\n",
       "merlot                  1506\n",
       "                        ... \n",
       "merlot-petite verdot       1\n",
       "chardonel                  1\n",
       "muscat di noto             1\n",
       "sauvignon musque           1\n",
       "grignolino                 1\n",
       "Name: variety, Length: 376, dtype: int64"
      ]
     },
     "execution_count": 18,
     "metadata": {},
     "output_type": "execute_result"
    }
   ],
   "source": [
    "data_corrected.variety.value_counts()"
   ]
  },
  {
   "cell_type": "markdown",
   "metadata": {
    "_uuid": "ca81a7dc093cf99322f662fbfc410349f105d8dd"
   },
   "source": [
    "Remove types which has not enough samples to train"
   ]
  },
  {
   "cell_type": "code",
   "execution_count": 19,
   "metadata": {
    "_uuid": "01c50a283d94e85e66bf2fc746a39bd2a31d6b47"
   },
   "outputs": [
    {
     "data": {
      "text/plain": [
       "pinot noir                       4845\n",
       "chardonnay                       4398\n",
       "cabernet sauvignon               4267\n",
       "syrah                            2370\n",
       "merlot                           1506\n",
       "sauvignon blanc                  1473\n",
       "sangiovese                       1368\n",
       "zinfandel                        1347\n",
       "malbec                           1033\n",
       "riesling                         1011\n",
       "tempranillo                       927\n",
       "pinot gris                        867\n",
       "nebbiolo                          560\n",
       "corvina, rondinella, molinara     530\n",
       "viognier                          492\n",
       "cabernet franc                    475\n",
       "grenache                          397\n",
       "gewurztraminer                    375\n",
       "petite sirah                      353\n",
       "muscat                            269\n",
       "pinot blanc                       235\n",
       "albarino                          228\n",
       "Name: variety, dtype: int64"
      ]
     },
     "execution_count": 19,
     "metadata": {},
     "output_type": "execute_result"
    }
   ],
   "source": [
    "data_reduced = data_corrected.groupby('variety').filter(lambda x: len(x) > 200)\n",
    "data_reduced.variety.value_counts()"
   ]
  },
  {
   "cell_type": "code",
   "execution_count": 20,
   "metadata": {},
   "outputs": [
    {
     "data": {
      "text/plain": [
       "22"
      ]
     },
     "execution_count": 20,
     "metadata": {},
     "output_type": "execute_result"
    }
   ],
   "source": [
    "len(data_reduced.variety.value_counts())"
   ]
  },
  {
   "cell_type": "code",
   "execution_count": 21,
   "metadata": {},
   "outputs": [],
   "source": [
    "grapes = list(np.unique(data_reduced.variety.value_counts().index.tolist()))"
   ]
  },
  {
   "cell_type": "markdown",
   "metadata": {
    "_uuid": "4c0f3b3b59e4c0caed24dfe3e200895e260e941e"
   },
   "source": [
    "### 2.5 Add colour feature"
   ]
  },
  {
   "cell_type": "code",
   "execution_count": 22,
   "metadata": {
    "_uuid": "317305988825f19e53ec4f7563e32150f4cf0271"
   },
   "outputs": [],
   "source": [
    "colour_map = {'aglianico': 'red', 'albarino': 'white', 'barbera': 'red', 'cabernet franc': 'red',\n",
    "              'cabernet sauvignon': 'red', 'carmenere': 'red', 'chardonnay': 'white', 'chenin blanc': 'white',\n",
    "              'corvina, rondinella, molinara': 'red', 'gamay': 'red', 'garganega': 'white', \n",
    "              'gewurztraminer': 'white', 'glera': 'white', 'grenache': 'red', 'gruner veltliner': 'white',\n",
    "              'malbec': 'red', 'merlot': 'red', 'mourvedre': 'red', 'muscat': 'white', 'nebbiolo': 'red',\n",
    "              \"nero d'avola\": 'red', 'petite sirah': 'red', 'pinot blanc': 'white', 'pinot gris': 'white',\n",
    "              'pinot noir': 'red', 'port': 'red', 'prosecco': 'white', 'riesling': 'white', 'sangiovese': 'red',\n",
    "              'sauvignon blanc': 'white', 'syrah': 'red', 'tempranillo': 'red', 'torrontes': 'white', \n",
    "              'verdejo': 'white', 'viognier': 'white', 'zinfandel': 'white'\n",
    "             }"
   ]
  },
  {
   "cell_type": "markdown",
   "metadata": {
    "_uuid": "97e8394c1122499516ea7d3f39ef63b66eaf9d3c"
   },
   "source": [
    "We create two more columns with names *red* and *white*, and their values can be 1 if the wine has that colour or 0 if it does not. In *sklearn* this corresponds to *one hot incoding*, we transform categorical data into vectors."
   ]
  },
  {
   "cell_type": "code",
   "execution_count": 23,
   "metadata": {
    "_uuid": "0dace5df91717a81300f2b2ab081dbe4d6cd863a"
   },
   "outputs": [],
   "source": [
    "final_input = data_reduced.copy()\n",
    "final_input['colour'] = final_input.apply(lambda row: colour_map[row['variety']], axis=1)\n",
    "colour_dummies = pd.get_dummies(final_input['colour'])\n",
    "final_input = final_input.merge(colour_dummies, left_index=True, right_index=True)"
   ]
  },
  {
   "cell_type": "code",
   "execution_count": 24,
   "metadata": {
    "_uuid": "7adca7542ee1ec477e0150279b552848a9fe7542"
   },
   "outputs": [
    {
     "data": {
      "text/html": [
       "<div>\n",
       "<style scoped>\n",
       "    .dataframe tbody tr th:only-of-type {\n",
       "        vertical-align: middle;\n",
       "    }\n",
       "\n",
       "    .dataframe tbody tr th {\n",
       "        vertical-align: top;\n",
       "    }\n",
       "\n",
       "    .dataframe thead th {\n",
       "        text-align: right;\n",
       "    }\n",
       "</style>\n",
       "<table border=\"1\" class=\"dataframe\">\n",
       "  <thead>\n",
       "    <tr style=\"text-align: right;\">\n",
       "      <th></th>\n",
       "      <th>index</th>\n",
       "      <th>country</th>\n",
       "      <th>description</th>\n",
       "      <th>price</th>\n",
       "      <th>province</th>\n",
       "      <th>region_1</th>\n",
       "      <th>variety</th>\n",
       "      <th>winery</th>\n",
       "      <th>colour</th>\n",
       "      <th>red</th>\n",
       "      <th>white</th>\n",
       "    </tr>\n",
       "  </thead>\n",
       "  <tbody>\n",
       "    <tr>\n",
       "      <th>0</th>\n",
       "      <td>0</td>\n",
       "      <td>us</td>\n",
       "      <td>this tremendous 100% varietal wine hails from ...</td>\n",
       "      <td>235.0</td>\n",
       "      <td>california</td>\n",
       "      <td>napa valley</td>\n",
       "      <td>cabernet sauvignon</td>\n",
       "      <td>heitz</td>\n",
       "      <td>red</td>\n",
       "      <td>1</td>\n",
       "      <td>0</td>\n",
       "    </tr>\n",
       "    <tr>\n",
       "      <th>1</th>\n",
       "      <td>2</td>\n",
       "      <td>us</td>\n",
       "      <td>mac watson honors the memory of a wine once ma...</td>\n",
       "      <td>90.0</td>\n",
       "      <td>california</td>\n",
       "      <td>knights valley</td>\n",
       "      <td>sauvignon blanc</td>\n",
       "      <td>macauley</td>\n",
       "      <td>white</td>\n",
       "      <td>0</td>\n",
       "      <td>1</td>\n",
       "    </tr>\n",
       "    <tr>\n",
       "      <th>2</th>\n",
       "      <td>3</td>\n",
       "      <td>us</td>\n",
       "      <td>this spent 20 months in 30% new french oak, an...</td>\n",
       "      <td>65.0</td>\n",
       "      <td>oregon</td>\n",
       "      <td>willamette valley</td>\n",
       "      <td>pinot noir</td>\n",
       "      <td>ponzi</td>\n",
       "      <td>red</td>\n",
       "      <td>1</td>\n",
       "      <td>0</td>\n",
       "    </tr>\n",
       "    <tr>\n",
       "      <th>3</th>\n",
       "      <td>8</td>\n",
       "      <td>us</td>\n",
       "      <td>this re-named vineyard was formerly bottled as...</td>\n",
       "      <td>65.0</td>\n",
       "      <td>oregon</td>\n",
       "      <td>chehalem mountains</td>\n",
       "      <td>pinot noir</td>\n",
       "      <td>bergstrom</td>\n",
       "      <td>red</td>\n",
       "      <td>1</td>\n",
       "      <td>0</td>\n",
       "    </tr>\n",
       "    <tr>\n",
       "      <th>4</th>\n",
       "      <td>9</td>\n",
       "      <td>us</td>\n",
       "      <td>the producer sources from two blocks of the vi...</td>\n",
       "      <td>60.0</td>\n",
       "      <td>california</td>\n",
       "      <td>sonoma coast</td>\n",
       "      <td>pinot noir</td>\n",
       "      <td>blue farm</td>\n",
       "      <td>red</td>\n",
       "      <td>1</td>\n",
       "      <td>0</td>\n",
       "    </tr>\n",
       "  </tbody>\n",
       "</table>\n",
       "</div>"
      ],
      "text/plain": [
       "   index country                                        description  price  \\\n",
       "0      0      us  this tremendous 100% varietal wine hails from ...  235.0   \n",
       "1      2      us  mac watson honors the memory of a wine once ma...   90.0   \n",
       "2      3      us  this spent 20 months in 30% new french oak, an...   65.0   \n",
       "3      8      us  this re-named vineyard was formerly bottled as...   65.0   \n",
       "4      9      us  the producer sources from two blocks of the vi...   60.0   \n",
       "\n",
       "     province            region_1             variety     winery colour  red  \\\n",
       "0  california         napa valley  cabernet sauvignon      heitz    red    1   \n",
       "1  california      knights valley     sauvignon blanc   macauley  white    0   \n",
       "2      oregon   willamette valley          pinot noir      ponzi    red    1   \n",
       "3      oregon  chehalem mountains          pinot noir  bergstrom    red    1   \n",
       "4  california        sonoma coast          pinot noir  blue farm    red    1   \n",
       "\n",
       "   white  \n",
       "0      0  \n",
       "1      1  \n",
       "2      0  \n",
       "3      0  \n",
       "4      0  "
      ]
     },
     "execution_count": 24,
     "metadata": {},
     "output_type": "execute_result"
    }
   ],
   "source": [
    "final_input.reset_index(inplace=True)\n",
    "final_input.head()"
   ]
  },
  {
   "cell_type": "markdown",
   "metadata": {
    "_uuid": "8712f7e4ece4130390b290bafa1784d10ade7af0"
   },
   "source": [
    "## 3. Modify descriptions use NLTK"
   ]
  },
  {
   "cell_type": "markdown",
   "metadata": {
    "_uuid": "94db07ab3a4e5167abc4a054f940c30b7faac72c"
   },
   "source": [
    "Stop words\n",
    "\n",
    "These are words that we do not want to come accross in the text and do not want to analyse them. That is why we remove any occurance of the country, province and winery from the text. "
   ]
  },
  {
   "cell_type": "code",
   "execution_count": 25,
   "metadata": {
    "_uuid": "8e7cc73c2991ab749ab138b8c4154530d5dedfa0"
   },
   "outputs": [],
   "source": [
    "# stop words for countries\n",
    "stop_country = list(np.unique(final_input.country.dropna().str.lower().tolist()))\n",
    "\n",
    "#stop words for province\n",
    "stop_province = list(np.unique(final_input.province.dropna().str.lower().tolist()))\n",
    "\n",
    "#stop words for winery\n",
    "stop_winery = list(np.unique(final_input.winery.dropna().str.lower().tolist()))\n",
    "\n",
    "stop_words_nltk = stopwords.words('english')\n",
    "stop_append = ['.', ',', '`', '\"', \"'\", '!', ';', 'wine', 'fruit', '%', 'flavour', 'aromas', 'palate']\n",
    "stop_words1 = stop_words_nltk + stop_append + grapes + stop_country + stop_province + stop_winery\n",
    "#stop_words1 = stop_words_nltk + stop_append"
   ]
  },
  {
   "cell_type": "markdown",
   "metadata": {
    "_uuid": "914ffa9a7d8c5319f3643dcc8fe2eb7a5bd5883c"
   },
   "source": [
    "Other steps"
   ]
  },
  {
   "cell_type": "code",
   "execution_count": 26,
   "metadata": {
    "_uuid": "0007560f5298091a366bf7ff3634e8e6827ffead"
   },
   "outputs": [],
   "source": [
    "# list of word types (nouns and adjectives) to leave in the text\n",
    "defTags = ['NN', 'NNS', 'NNP', 'NNPS', 'JJ', 'JJS', 'JJR']#, 'RB', 'RBS', 'RBR', 'VB', 'VBD', 'VBG', 'VBN', 'VBP', 'VBZ']\n",
    "\n",
    "# functions to determine the type of a word\n",
    "def is_noun(tag):\n",
    "    return tag in ['NN', 'NNS', 'NNP', 'NNPS']\n",
    "\n",
    "def is_verb(tag):\n",
    "    return tag in ['VB', 'VBD', 'VBG', 'VBN', 'VBP', 'VBZ']\n",
    "\n",
    "def is_adverb(tag):\n",
    "    return tag in ['RB', 'RBR', 'RBS']\n",
    "\n",
    "def is_adjective(tag):\n",
    "    return tag in ['JJ', 'JJR', 'JJS']\n",
    "\n",
    "# transform tag forms\n",
    "def penn_to_wn(tag):\n",
    "    if is_adjective(tag):\n",
    "        return nltk.stem.wordnet.wordnet.ADJ\n",
    "    elif is_noun(tag):\n",
    "        return nltk.stem.wordnet.wordnet.NOUN\n",
    "    elif is_adverb(tag):\n",
    "        return nltk.stem.wordnet.wordnet.ADV\n",
    "    elif is_verb(tag):\n",
    "        return nltk.stem.wordnet.wordnet.VERB\n",
    "    return nltk.stem.wordnet.wordnet.NOUN\n",
    "    \n",
    "# lemmatizer, tokenizer, stemming\n",
    "class LemmaTokenizer(object):\n",
    "    def __init__(self):\n",
    "        self.wnl = WordNetLemmatizer()\n",
    "        self.stemmer = nltk.stem.SnowballStemmer('english') \n",
    "    def __call__(self, doc):\n",
    "        # pattern for numbers | words of length=2 | punctuations | words of length=1\n",
    "        pattern = re.compile(r'[0-9]+|\\b[\\w]{2,2}\\b|[%.,_`!\"&?\\')({~@;:#}+-]+|\\b[\\w]{1,1}\\b')\n",
    "        # tokenize document\n",
    "        doc_tok = word_tokenize(doc)\n",
    "        #filter out patterns from words\n",
    "        doc_tok = [x for x in doc_tok if x not in stop_words1]\n",
    "        doc_tok = [pattern.sub('', x) for x in doc_tok]\n",
    "        # get rid of anything with length=1\n",
    "        doc_tok = [x for x in doc_tok if len(x) > 1]\n",
    "        # position tagging\n",
    "        doc_tagged = nltk.pos_tag(doc_tok)\n",
    "        # selecting nouns and adjectives\n",
    "        doc_tagged = [(t[0], t[1]) for t in doc_tagged if t[1] in defTags]\n",
    "        # preparing lemmatization\n",
    "        doc = [(t[0], penn_to_wn(t[1])) for t in doc_tagged]\n",
    "        # lemmatization\n",
    "        doc = [self.wnl.lemmatize(t[0], t[1]) for t in doc]\n",
    "        # stemming\n",
    "        doc = [self.stemmer.stem(x) for x in doc]\n",
    "        return doc"
   ]
  },
  {
   "cell_type": "markdown",
   "metadata": {
    "_uuid": "14fb0504a65755f34c934c46e43e7b6d3b40dffa"
   },
   "source": [
    "Text vectorizer"
   ]
  },
  {
   "cell_type": "code",
   "execution_count": 27,
   "metadata": {
    "_uuid": "6403691da0fb2b5f7776de60bbc3b018ce583002"
   },
   "outputs": [],
   "source": [
    "vec_tdidf = TfidfVectorizer(ngram_range=(1,1), analyzer='word', #stop_words=stop_words1, \n",
    "                                               norm='l2', tokenizer=LemmaTokenizer())"
   ]
  },
  {
   "cell_type": "code",
   "execution_count": 28,
   "metadata": {},
   "outputs": [
    {
     "name": "stdout",
     "output_type": "stream",
     "text": [
      "(19648, 4) (9678, 4) (19648,) (9678,)\n"
     ]
    }
   ],
   "source": [
    "# split the data into train and test\n",
    "combined_features = ['description', 'white', 'red', 'price']\n",
    "target = 'variety'\n",
    "\n",
    "X_train, X_test, y_train, y_test = train_test_split(final_input[combined_features], final_input[target], \n",
    "                                                    test_size=0.33, random_state=42, stratify=final_input[target])\n",
    "\n",
    "print(X_train.shape, X_test.shape, y_train.shape, y_test.shape)"
   ]
  },
  {
   "cell_type": "code",
   "execution_count": 29,
   "metadata": {},
   "outputs": [
    {
     "data": {
      "text/plain": [
       "<19648x14271 sparse matrix of type '<class 'numpy.float64'>'\n",
       "\twith 459400 stored elements in COOrdinate format>"
      ]
     },
     "execution_count": 29,
     "metadata": {},
     "output_type": "execute_result"
    }
   ],
   "source": [
    "vect = CountVectorizer(stop_words = stop_words1)\n",
    "X_train_dtm = vect.fit_transform(X_train.description)\n",
    "price = X_train.price.values[:,None]\n",
    "X_train_dtm = hstack((X_train_dtm, price))\n",
    "X_train_dtm"
   ]
  },
  {
   "cell_type": "code",
   "execution_count": 30,
   "metadata": {},
   "outputs": [
    {
     "data": {
      "text/plain": [
       "<9678x14271 sparse matrix of type '<class 'numpy.float64'>'\n",
       "\twith 223740 stored elements in COOrdinate format>"
      ]
     },
     "execution_count": 30,
     "metadata": {},
     "output_type": "execute_result"
    }
   ],
   "source": [
    "X_test_dtm = vect.transform(X_test.description)\n",
    "price_test = X_test.price.values[:,None]\n",
    "X_test_dtm = hstack((X_test_dtm, price_test))\n",
    "X_test_dtm"
   ]
  },
  {
   "cell_type": "code",
   "execution_count": 31,
   "metadata": {},
   "outputs": [],
   "source": [
    "wine =final_input.variety.unique().tolist()"
   ]
  },
  {
   "cell_type": "code",
   "execution_count": 32,
   "metadata": {
    "collapsed": true,
    "jupyter": {
     "outputs_hidden": true
    }
   },
   "outputs": [
    {
     "ename": "NameError",
     "evalue": "name 'clf' is not defined",
     "output_type": "error",
     "traceback": [
      "\u001b[1;31m---------------------------------------------------------------------------\u001b[0m",
      "\u001b[1;31mNameError\u001b[0m                                 Traceback (most recent call last)",
      "\u001b[1;32m<ipython-input-32-9e22b4f45da1>\u001b[0m in \u001b[0;36m<module>\u001b[1;34m\u001b[0m\n\u001b[0;32m      1\u001b[0m \u001b[1;32mfrom\u001b[0m \u001b[0msklearn\u001b[0m\u001b[1;33m.\u001b[0m\u001b[0mmodel_selection\u001b[0m \u001b[1;32mimport\u001b[0m \u001b[0mKFold\u001b[0m\u001b[1;33m,\u001b[0m \u001b[0mcross_val_score\u001b[0m\u001b[1;33m\u001b[0m\u001b[1;33m\u001b[0m\u001b[0m\n\u001b[0;32m      2\u001b[0m \u001b[0mk_fold\u001b[0m \u001b[1;33m=\u001b[0m \u001b[0mKFold\u001b[0m\u001b[1;33m(\u001b[0m\u001b[0mn_splits\u001b[0m\u001b[1;33m=\u001b[0m\u001b[1;36m5\u001b[0m\u001b[1;33m)\u001b[0m\u001b[1;33m\u001b[0m\u001b[1;33m\u001b[0m\u001b[0m\n\u001b[1;32m----> 3\u001b[1;33m \u001b[0mcross_val_score\u001b[0m\u001b[1;33m(\u001b[0m\u001b[0mclf\u001b[0m\u001b[1;33m,\u001b[0m \u001b[0mX_digits\u001b[0m\u001b[1;33m,\u001b[0m \u001b[0my_digits\u001b[0m\u001b[1;33m,\u001b[0m \u001b[0mcv\u001b[0m\u001b[1;33m=\u001b[0m\u001b[0mk_fold\u001b[0m\u001b[1;33m,\u001b[0m \u001b[0mn_jobs\u001b[0m\u001b[1;33m=\u001b[0m\u001b[1;33m-\u001b[0m\u001b[1;36m1\u001b[0m\u001b[1;33m)\u001b[0m\u001b[1;33m\u001b[0m\u001b[1;33m\u001b[0m\u001b[0m\n\u001b[0m",
      "\u001b[1;31mNameError\u001b[0m: name 'clf' is not defined"
     ]
    }
   ],
   "source": [
    "# from sklearn.model_selection import KFold, cross_val_score\n",
    "# k_fold = KFold(n_splits=5)\n",
    "# cross_val_score(clf, X_digits, y_digits, cv=k_fold, n_jobs=-1)"
   ]
  },
  {
   "cell_type": "markdown",
   "metadata": {},
   "source": [
    "Some help functions"
   ]
  },
  {
   "cell_type": "code",
   "execution_count": 33,
   "metadata": {
    "_uuid": "85ef03cdc31f40a0de6217c13ddb3640bafab1b6"
   },
   "outputs": [],
   "source": [
    "class TextSelector(BaseEstimator, TransformerMixin):\n",
    "    def __init__(self, key):\n",
    "        self.key = key\n",
    "\n",
    "    def fit(self, X, y=None, *parg, **kwarg):\n",
    "        return self\n",
    "\n",
    "    def transform(self, X):\n",
    "        # returns the input as a string\n",
    "        return X[self.key]\n",
    "    \n",
    "class NumberSelector(BaseEstimator, TransformerMixin):\n",
    "    def __init__(self, key):\n",
    "        self.key = key\n",
    "\n",
    "    def fit(self, X, y=None):\n",
    "        return self\n",
    "\n",
    "    def transform(self, X):\n",
    "        # returns the input as a dataframe\n",
    "        return X[[self.key]]"
   ]
  },
  {
   "cell_type": "code",
   "execution_count": 34,
   "metadata": {
    "_uuid": "07bfb66a80a7301b9cc25393058226c2f72d42e9"
   },
   "outputs": [],
   "source": [
    "def print_stats(preds, target, labels, sep='-', sep_len=40, fig_size=(10,8)):\n",
    "    print('Accuracy = %.3f' % metrics.accuracy_score(target, preds))\n",
    "    print(sep*sep_len)\n",
    "    print('Classification report:')\n",
    "    print(metrics.classification_report(target, preds))\n",
    "    print(sep*sep_len)\n",
    "    print('Confusion matrix')\n",
    "    cm=metrics.confusion_matrix(target, preds)\n",
    "    cm = cm / np.sum(cm, axis=1)[:,None]\n",
    "    sns.set(rc={'figure.figsize':fig_size})\n",
    "    sns.heatmap(cm, \n",
    "        xticklabels=labels,\n",
    "        yticklabels=labels,\n",
    "           annot=True, cmap = 'YlGnBu')\n",
    "    plt.pause(0.05)"
   ]
  },
  {
   "cell_type": "markdown",
   "metadata": {
    "_uuid": "d0cdde3cd9f52afb559bf858e2eaad50ef72cf4a"
   },
   "source": [
    "## 4. Algorithm"
   ]
  },
  {
   "cell_type": "markdown",
   "metadata": {},
   "source": [
    "### 4.1 LogisticRegression"
   ]
  },
  {
   "cell_type": "code",
   "execution_count": 35,
   "metadata": {},
   "outputs": [],
   "source": [
    "# Logistic Regression Classifier\n",
    "clf = LogisticRegression()"
   ]
  },
  {
   "cell_type": "code",
   "execution_count": 36,
   "metadata": {},
   "outputs": [],
   "source": [
    "models = {}\n",
    "for z in wine:\n",
    "    y = y_train == z\n",
    "    clf.fit(X_train_dtm, y)\n",
    "    models[z] = clf\n",
    "\n",
    "testing_probs = pd.DataFrame(columns = wine)"
   ]
  },
  {
   "cell_type": "code",
   "execution_count": 37,
   "metadata": {},
   "outputs": [
    {
     "data": {
      "text/plain": [
       "0.1454846042570779"
      ]
     },
     "execution_count": 37,
     "metadata": {},
     "output_type": "execute_result"
    }
   ],
   "source": [
    "for variety in wine:\n",
    "    testing_probs[variety] = models[variety].predict_proba(X_test_dtm)[:,1]\n",
    "    \n",
    "predicted_wine = testing_probs.idxmax(axis=1)\n",
    "\n",
    "comparison = pd.DataFrame({'actual':y_test.values, 'predicted':predicted_wine.values})   \n",
    "\n",
    "metrics.accuracy_score(comparison.actual, comparison.predicted)"
   ]
  },
  {
   "cell_type": "markdown",
   "metadata": {},
   "source": [
    "### 4.2 SVM"
   ]
  },
  {
   "cell_type": "code",
   "execution_count": 38,
   "metadata": {},
   "outputs": [],
   "source": [
    "from sklearn.decomposition import NMF, LatentDirichletAllocation, TruncatedSVD\n",
    "clf = TruncatedSVD(n_components=5, n_iter=7, random_state=42)\n",
    "\n",
    "from sklearn import svm\n",
    "clf = svm.SVC(probability=True)"
   ]
  },
  {
   "cell_type": "code",
   "execution_count": null,
   "metadata": {},
   "outputs": [],
   "source": [
    "models = {}\n",
    "for z in wine:\n",
    "    y = y_train == z\n",
    "    clf.fit(X_train_dtm, y)\n",
    "    models[z] = clf\n",
    "\n",
    "testing_probs = pd.DataFrame(columns = wine)"
   ]
  },
  {
   "cell_type": "code",
   "execution_count": null,
   "metadata": {},
   "outputs": [],
   "source": [
    "for variety in wine:\n",
    "    testing_probs[variety] = models[variety].predict_proba(X_test_dtm)[:,1]\n",
    "    \n",
    "predicted_wine = testing_probs.idxmax(axis=1)\n",
    "\n",
    "comparison = pd.DataFrame({'actual':y_test.values, 'predicted':predicted_wine.values})   \n",
    "\n",
    "metrics.accuracy_score(comparison.actual, comparison.predicted)"
   ]
  },
  {
   "cell_type": "markdown",
   "metadata": {},
   "source": [
    "#### 4.2.1 Kernalize"
   ]
  },
  {
   "cell_type": "code",
   "execution_count": null,
   "metadata": {},
   "outputs": [],
   "source": [
    "clf = svm.SVC(probability=True, kernel='rbf')\n",
    "# kernel='Radial basis function kernel'"
   ]
  },
  {
   "cell_type": "code",
   "execution_count": null,
   "metadata": {},
   "outputs": [],
   "source": [
    "models = {}\n",
    "for z in wine:\n",
    "    y = y_train == z\n",
    "    clf.fit(X_train_dtm, y)\n",
    "    models[z] = clf\n",
    "\n",
    "testing_probs = pd.DataFrame(columns = wine)"
   ]
  },
  {
   "cell_type": "code",
   "execution_count": null,
   "metadata": {},
   "outputs": [],
   "source": [
    "for variety in wine:\n",
    "    testing_probs[variety] = models[variety].predict_proba(X_test_dtm)[:,1]\n",
    "    \n",
    "predicted_wine = testing_probs.idxmax(axis=1)\n",
    "\n",
    "comparison = pd.DataFrame({'actual':y_test.values, 'predicted':predicted_wine.values})   \n",
    "\n",
    "metrics.accuracy_score(comparison.actual, comparison.predicted)"
   ]
  },
  {
   "cell_type": "markdown",
   "metadata": {},
   "source": [
    "### 4.3 XGBoost"
   ]
  },
  {
   "cell_type": "code",
   "execution_count": null,
   "metadata": {
    "_uuid": "379ec8482a039658a98548acb218a0dd0005e9b6"
   },
   "outputs": [],
   "source": [
    "# XGBoost classifier\n",
    "clf = XGBClassifier(random_state=42, seed=2, colsample_bytree=0.6, subsample=0.7)"
   ]
  },
  {
   "cell_type": "code",
   "execution_count": null,
   "metadata": {
    "_uuid": "d08bdac015695389a03e2a76f46393ab07dca99a"
   },
   "outputs": [],
   "source": [
    "text = Pipeline([\n",
    "                ('selector', TextSelector(key='description')),\n",
    "                ('vectorizer', vec_tdidf)\n",
    "                ])\n",
    "red = Pipeline([\n",
    "                ('selector', NumberSelector(key='red')),\n",
    "                ])\n",
    "white = Pipeline([\n",
    "                ('selector', NumberSelector(key='white')),\n",
    "                ])\n",
    "# To combine all feature, we use the *FeatureUnion* object. That makes sure there will not be any errors from combining text and number based inputs.\n",
    "feats = FeatureUnion([('description', text),\n",
    "                      ('red', red),\n",
    "                      ('white', white)\n",
    "                      ])\n",
    "# Finally, we are ready to combine the input features with the classifier into one single pipeline .  \n",
    "pipe = Pipeline([\n",
    "                 ('feats', feats),\n",
    "                 ('clf',clf)\n",
    "                 ])"
   ]
  },
  {
   "cell_type": "code",
   "execution_count": null,
   "metadata": {
    "_uuid": "3311ae9b42f33713e2cf447465456850362a3f4f"
   },
   "outputs": [],
   "source": [
    "# Hyperparameter we can tuning\n",
    "pipe.named_steps['clf'].get_params()"
   ]
  },
  {
   "cell_type": "code",
   "execution_count": null,
   "metadata": {
    "_uuid": "77909d4c44e9db6eaf89a1a61fcc3a64a3e537d3"
   },
   "outputs": [],
   "source": [
    "# definition of parameter grid to scan through\n",
    "param_grid = {\n",
    "     'clf__n_estimators': [50,100,300]\n",
    "}"
   ]
  },
  {
   "cell_type": "code",
   "execution_count": null,
   "metadata": {
    "_uuid": "5a79fc82f5aa6418970759c21b07c3ec1ca74d12"
   },
   "outputs": [],
   "source": [
    "# grid search cross validation instantiation\n",
    "grid_search = GridSearchCV(estimator = pipe, param_grid = param_grid, \n",
    "                          cv = 3, n_jobs = 1, verbose = 0, return_train_score=True)"
   ]
  },
  {
   "cell_type": "code",
   "execution_count": null,
   "metadata": {
    "_uuid": "2bd6a243508c1a2fe3b00b05482b7d2bca61377c",
    "scrolled": true
   },
   "outputs": [],
   "source": [
    "#hyperparameter fitting\n",
    "grid_search.fit(X_train, y_train)"
   ]
  },
  {
   "cell_type": "code",
   "execution_count": null,
   "metadata": {
    "_uuid": "9bf8956b9de8bf4fb8a4d5f070c6882dbf4ccd15"
   },
   "outputs": [],
   "source": [
    "grid_search.cv_results_['mean_train_score']"
   ]
  },
  {
   "cell_type": "code",
   "execution_count": null,
   "metadata": {
    "_uuid": "72dad7c878261743fec234a3381b60cc57053000"
   },
   "outputs": [],
   "source": [
    "grid_search.cv_results_['mean_test_score']"
   ]
  },
  {
   "cell_type": "code",
   "execution_count": null,
   "metadata": {
    "_uuid": "b76307349853f09e99cc1761ff2500c4400e0176"
   },
   "outputs": [],
   "source": [
    "# test stats\n",
    "clf_test = grid_search.best_estimator_\n",
    "preds = clf_test.predict(X_test)\n",
    "print_stats(y_test, preds, clf_test.classes_)"
   ]
  },
  {
   "cell_type": "markdown",
   "metadata": {},
   "source": [
    "### 4.4 Adaboost"
   ]
  },
  {
   "cell_type": "code",
   "execution_count": null,
   "metadata": {},
   "outputs": [],
   "source": [
    "# AdaBoost classifier\n",
    "clf = AdaBoostClassifier(n_estimators=600, learning_rate=1)"
   ]
  },
  {
   "cell_type": "code",
   "execution_count": null,
   "metadata": {},
   "outputs": [],
   "source": [
    "pipe = Pipeline([\n",
    "                 ('feats', feats),\n",
    "                 ('clf',clf)\n",
    "                 ])"
   ]
  },
  {
   "cell_type": "code",
   "execution_count": null,
   "metadata": {},
   "outputs": [],
   "source": [
    "param_grid = {\n",
    "     'clf__n_estimators': [50,100,300]\n",
    "}"
   ]
  },
  {
   "cell_type": "code",
   "execution_count": null,
   "metadata": {},
   "outputs": [],
   "source": [
    "# grid search cross validation instantiation\n",
    "grid_search = GridSearchCV(estimator = pipe, param_grid = param_grid, \n",
    "                          cv = 3, n_jobs = 1, verbose = 0, return_train_score=True)"
   ]
  },
  {
   "cell_type": "code",
   "execution_count": null,
   "metadata": {},
   "outputs": [],
   "source": [
    "#hyperparameter fitting\n",
    "grid_search.fit(X_train, y_train)"
   ]
  },
  {
   "cell_type": "code",
   "execution_count": null,
   "metadata": {},
   "outputs": [],
   "source": [
    "grid_search.cv_results_['mean_train_score']"
   ]
  },
  {
   "cell_type": "code",
   "execution_count": null,
   "metadata": {},
   "outputs": [],
   "source": [
    "grid_search.cv_results_['mean_test_score']"
   ]
  },
  {
   "cell_type": "code",
   "execution_count": null,
   "metadata": {},
   "outputs": [],
   "source": [
    "# test stats\n",
    "clf_test = grid_search.best_estimator_\n",
    "preds = clf_test.predict(X_test)\n",
    "print_stats(y_test, preds, clf_test.classes_)"
   ]
  },
  {
   "cell_type": "markdown",
   "metadata": {},
   "source": [
    "### 4.5 Random Forest"
   ]
  },
  {
   "cell_type": "code",
   "execution_count": null,
   "metadata": {},
   "outputs": [],
   "source": [
    "# Random Forest Classifier\n",
    "clf = RandomForestClassifier(max_depth=40, random_state=42, n_estimators=600)"
   ]
  },
  {
   "cell_type": "code",
   "execution_count": null,
   "metadata": {},
   "outputs": [],
   "source": [
    "pipe = Pipeline([\n",
    "                 ('feats', feats),\n",
    "                 ('clf',clf)\n",
    "                 ])"
   ]
  },
  {
   "cell_type": "code",
   "execution_count": null,
   "metadata": {},
   "outputs": [],
   "source": [
    "param_grid = {\n",
    "     'clf__n_estimators': [50,100,300]\n",
    "}"
   ]
  },
  {
   "cell_type": "code",
   "execution_count": null,
   "metadata": {},
   "outputs": [],
   "source": [
    "# grid search cross validation instantiation\n",
    "grid_search = GridSearchCV(estimator = pipe, param_grid = param_grid, \n",
    "                          cv = 3, n_jobs = 1, verbose = 0, return_train_score=True)"
   ]
  },
  {
   "cell_type": "code",
   "execution_count": null,
   "metadata": {},
   "outputs": [],
   "source": [
    "#hyperparameter fitting\n",
    "grid_search.fit(X_train, y_train)"
   ]
  },
  {
   "cell_type": "code",
   "execution_count": null,
   "metadata": {},
   "outputs": [],
   "source": [
    "grid_search.cv_results_['mean_train_score']"
   ]
  },
  {
   "cell_type": "code",
   "execution_count": null,
   "metadata": {},
   "outputs": [],
   "source": [
    "grid_search.cv_results_['mean_test_score']"
   ]
  },
  {
   "cell_type": "code",
   "execution_count": null,
   "metadata": {},
   "outputs": [],
   "source": [
    "# test stats\n",
    "clf_test = grid_search.best_estimator_\n",
    "preds = clf_test.predict(X_test)\n",
    "print_stats(y_test, preds, clf_test.classes_)"
   ]
  }
 ],
 "metadata": {
  "kernelspec": {
   "display_name": "Python 3",
   "language": "python",
   "name": "python3"
  },
  "language_info": {
   "codemirror_mode": {
    "name": "ipython",
    "version": 3
   },
   "file_extension": ".py",
   "mimetype": "text/x-python",
   "name": "python",
   "nbconvert_exporter": "python",
   "pygments_lexer": "ipython3",
   "version": "3.7.7"
  },
  "toc-autonumbering": false,
  "toc-showcode": false,
  "toc-showmarkdowntxt": false,
  "toc-showtags": false
 },
 "nbformat": 4,
 "nbformat_minor": 4
}
